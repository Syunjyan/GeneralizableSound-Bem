{
 "cells": [
  {
   "cell_type": "code",
   "execution_count": 4,
   "metadata": {},
   "outputs": [],
   "source": [
    "import trimesh\n",
    "\n",
    "hushen = trimesh.load(\"./hushen_smaller_2.obj\")\n",
    "gaizi = trimesh.load(\"./gaizi_smaller_2.obj\")\n",
    "\n",
    "distance = [0.0, 0.5, 1.0, 1.5, 2.0, 2.5, 3.0, 4.0, 5.0]\n",
    "distance = [x * 0.08 for x in distance]\n",
    "\n",
    "for d in distance:\n",
    "    gaizi.vertices[:, 1] += d\n",
    "    scene = trimesh.Scene([hushen, gaizi])\n",
    "    scene.export(f\"my_obstacles/teapot_smaller_{d:.2f}.obj\")\n",
    "    gaizi.vertices[:, 1] -= d"
   ]
  }
 ],
 "metadata": {
  "kernelspec": {
   "display_name": "gensound",
   "language": "python",
   "name": "python3"
  },
  "language_info": {
   "codemirror_mode": {
    "name": "ipython",
    "version": 3
   },
   "file_extension": ".py",
   "mimetype": "text/x-python",
   "name": "python",
   "nbconvert_exporter": "python",
   "pygments_lexer": "ipython3",
   "version": "3.12.8"
  }
 },
 "nbformat": 4,
 "nbformat_minor": 2
}
